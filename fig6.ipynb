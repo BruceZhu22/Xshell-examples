{
 "cells": [
  {
   "cell_type": "markdown",
   "metadata": {},
   "source": [
    "### Pre-optimization \"wiggly\" model"
   ]
  },
  {
   "cell_type": "code",
   "execution_count": 19,
   "metadata": {},
   "outputs": [
    {
     "name": "stdout",
     "output_type": "stream",
     "text": [
      "CHOLMOD warning: matrix not positive definite. file: ../Supernodal/t_cholmod_super_numeric.c line: 911\n",
      "CHOLMOD warning: matrix not positive definite. file: ../Supernodal/t_cholmod_super_numeric.c line: 911\n",
      "CHOLMOD warning: matrix not positive definite. file: ../Supernodal/t_cholmod_super_numeric.c line: 911\n",
      "CHOLMOD warning: matrix not positive definite. file: ../Supernodal/t_cholmod_super_numeric.c line: 911\n",
      "CHOLMOD warning: matrix not positive definite. file: ../Supernodal/t_cholmod_super_numeric.c line: 911\n",
      "CHOLMOD warning: matrix not positive definite. file: ../Supernodal/t_cholmod_super_numeric.c line: 911\n",
      "CHOLMOD warning: matrix not positive definite. file: ../Supernodal/t_cholmod_super_numeric.c line: 911\n",
      "CHOLMOD warning: matrix not positive definite. file: ../Supernodal/t_cholmod_super_numeric.c line: 911\n",
      "CHOLMOD warning: matrix not positive definite. file: ../Supernodal/t_cholmod_super_numeric.c line: 911\n",
      "CHOLMOD warning: matrix not positive definite. file: ../Supernodal/t_cholmod_super_numeric.c line: 911\n",
      "CHOLMOD warning: matrix not positive definite. file: ../Supernodal/t_cholmod_super_numeric.c line: 911\n",
      "CHOLMOD warning: matrix not positive definite. file: ../Supernodal/t_cholmod_super_numeric.c line: 911\n",
      "CHOLMOD warning: matrix not positive definite. file: ../Supernodal/t_cholmod_super_numeric.c line: 911\n",
      "CHOLMOD warning: matrix not positive definite. file: ../Supernodal/t_cholmod_super_numeric.c line: 911\n",
      "CHOLMOD warning: matrix not positive definite. file: ../Supernodal/t_cholmod_super_numeric.c line: 911\n",
      "CHOLMOD warning: matrix not positive definite. file: ../Supernodal/t_cholmod_super_numeric.c line: 911\n",
      "CHOLMOD warning: matrix not positive definite. file: ../Supernodal/t_cholmod_super_numeric.c line: 911\n",
      "CHOLMOD warning: matrix not positive definite. file: ../Supernodal/t_cholmod_super_numeric.c line: 911\n"
     ]
    },
    {
     "data": {
      "application/vnd.jupyter.widget-view+json": {
       "model_id": "8d51301482484b22a438d228339c9d7c",
       "version_major": 2,
       "version_minor": 0
      },
      "text/plain": [
       "Renderer(camera=PerspectiveCamera(aspect=2.0, children=(PointLight(color='white', intensity=0.6, position=(0.0…"
      ]
     },
     "execution_count": 19,
     "metadata": {},
     "output_type": "execute_result"
    }
   ],
   "source": [
    "import sys; sys.path.append('..')\n",
    "import numpy as np, elastic_rods\n",
    "from bending_validation import suppress_stdout\n",
    "from linkage_vis import LinkageViewer\n",
    "\n",
    "l = elastic_rods.RodLinkage('/home/bruce/ElasticRods/examples/wenbo_model.obj')\n",
    "mat = elastic_rods.RodMaterial('Rectangle', 7.2e10, 0.22, [0.8,0.1], stiffAxis=elastic_rods.StiffAxis.D2)\n",
    "l.setMaterial(mat)\n",
    "\n",
    "# l.setPerSegmentRestLength(np.loadtxt('../examples/optimized/data/wiggly_banana_preopt/design_parameters.txt'))\n",
    "\n",
    "jdo = l.dofOffsetForJoint(l.centralJoint())\n",
    "# fixedVars = list(range(jdo, jdo + 6)) # fix rigid motion for a single joint\n",
    "fixedVars=[]\n",
    "point_ind=l.jointPositionDoFIndices()\n",
    "point_pos=l.jointPositions()\n",
    "for i in range(0,len(point_ind)): \n",
    "    if point_pos[i]==0:\n",
    "        if point_ind[i]%3==2:\n",
    "            fixedVars.append(point_ind[i-2])\n",
    "            fixedVars.append(point_ind[i-1])\n",
    "            fixedVars.append(point_ind[i])\n",
    "with suppress_stdout(): elastic_rods.compute_equilibrium(l, np.deg2rad(80), fixedVars=fixedVars)\n",
    "view = LinkageViewer(l, width=1024)\n",
    "# view.setCameraParams(((0.4075185454716348, 3.1892642201046715, 0.3099480992441177),\n",
    "#  (0.15364528336486324, 0.2839547329660347, 0.9464474821805594),\n",
    "#  (0.0, 0.0, 0.0)))\n",
    "view.show()"
   ]
  },
  {
   "cell_type": "markdown",
   "metadata": {},
   "source": [
    "### Smoother, post-optimization model"
   ]
  },
  {
   "cell_type": "code",
   "execution_count": 20,
   "metadata": {},
   "outputs": [
    {
     "name": "stdout",
     "output_type": "stream",
     "text": [
      "CHOLMOD warning: matrix not positive definite. file: ../Supernodal/t_cholmod_super_numeric.c line: 911\n",
      "CHOLMOD warning: matrix not positive definite. file: ../Supernodal/t_cholmod_super_numeric.c line: 911\n",
      "CHOLMOD warning: matrix not positive definite. file: ../Supernodal/t_cholmod_super_numeric.c line: 911\n",
      "CHOLMOD warning: matrix not positive definite. file: ../Supernodal/t_cholmod_super_numeric.c line: 911\n",
      "CHOLMOD warning: matrix not positive definite. file: ../Supernodal/t_cholmod_super_numeric.c line: 911\n",
      "CHOLMOD warning: matrix not positive definite. file: ../Supernodal/t_cholmod_super_numeric.c line: 911\n",
      "CHOLMOD warning: matrix not positive definite. file: ../Supernodal/t_cholmod_super_numeric.c line: 911\n",
      "CHOLMOD warning: matrix not positive definite. file: ../Supernodal/t_cholmod_super_numeric.c line: 911\n",
      "CHOLMOD warning: matrix not positive definite. file: ../Supernodal/t_cholmod_super_numeric.c line: 911\n",
      "CHOLMOD warning: matrix not positive definite. file: ../Supernodal/t_cholmod_super_numeric.c line: 911\n",
      "CHOLMOD warning: matrix not positive definite. file: ../Supernodal/t_cholmod_super_numeric.c line: 911\n",
      "CHOLMOD warning: matrix not positive definite. file: ../Supernodal/t_cholmod_super_numeric.c line: 911\n",
      "CHOLMOD warning: matrix not positive definite. file: ../Supernodal/t_cholmod_super_numeric.c line: 911\n",
      "CHOLMOD warning: matrix not positive definite. file: ../Supernodal/t_cholmod_super_numeric.c line: 911\n",
      "CHOLMOD warning: matrix not positive definite. file: ../Supernodal/t_cholmod_super_numeric.c line: 911\n",
      "CHOLMOD warning: matrix not positive definite. file: ../Supernodal/t_cholmod_super_numeric.c line: 911\n",
      "CHOLMOD warning: matrix not positive definite. file: ../Supernodal/t_cholmod_super_numeric.c line: 911\n",
      "CHOLMOD warning: matrix not positive definite. file: ../Supernodal/t_cholmod_super_numeric.c line: 911\n",
      "CHOLMOD warning: matrix not positive definite. file: ../Supernodal/t_cholmod_super_numeric.c line: 911\n"
     ]
    },
    {
     "data": {
      "application/vnd.jupyter.widget-view+json": {
       "model_id": "55f4b8fa378d4c5b98df751f47954941",
       "version_major": 2,
       "version_minor": 0
      },
      "text/plain": [
       "Renderer(camera=PerspectiveCamera(aspect=2.0, children=(PointLight(color='white', intensity=0.6, position=(0.0…"
      ]
     },
     "execution_count": 20,
     "metadata": {},
     "output_type": "execute_result"
    }
   ],
   "source": [
    "import sys; sys.path.append('..')\n",
    "import numpy as np, elastic_rods\n",
    "from bending_validation import suppress_stdout\n",
    "from linkage_vis import LinkageViewer\n",
    "\n",
    "lopt = elastic_rods.RodLinkage('/home/bruce/ElasticRods/python/XShellSiggraphPaperFigures/1_deployed_asymmOverhangRender.msh')\n",
    "lopt.setMaterial(mat)\n",
    "\n",
    "# lopt.setPerSegmentRestLength(np.loadtxt('../examples/optimized/data/wiggly_banana_5/design_parameters.txt'))\n",
    "\n",
    "with suppress_stdout(): elastic_rods.compute_equilibrium(lopt, np.deg2rad(80), fixedVars=fixedVars)\n",
    "viewopt = LinkageViewer(lopt, width=1024)\n",
    "viewopt.setCameraParams(((0.4075185454716348, 3.1892642201046715, 0.3099480992441177),\n",
    " (0.15364528336486324, 0.2839547329660347, 0.9464474821805594),\n",
    " (0.0, 0.0, 0.0)))\n",
    "viewopt.show()"
   ]
  },
  {
   "cell_type": "code",
   "execution_count": 21,
   "metadata": {},
   "outputs": [],
   "source": [
    "from write_render_files import writeRenderFiles\n",
    "stressMax = max(max(max(l.rodStresses()[1])), max(max(lopt.rodStresses()[1])))\n",
    "writeRenderFiles(l, '6_wiggly_stress', ' _preopt', stressMin = 0, stressMax = stressMax)\n",
    "writeRenderFiles(lopt, '6_wiggly_stress', '6_postopt', stressMin = 0, stressMax = stressMax)"
   ]
  },
  {
   "cell_type": "code",
   "execution_count": 22,
   "metadata": {},
   "outputs": [],
   "source": [
    "l.saveStressVisualization('6_preopt_stress.msh')\n",
    "lopt.saveStressVisualization('6_postopt_stress.msh')"
   ]
  },
  {
   "cell_type": "code",
   "execution_count": 23,
   "metadata": {},
   "outputs": [
    {
     "data": {
      "text/plain": [
       "0.9999193076641728"
      ]
     },
     "execution_count": 23,
     "metadata": {},
     "output_type": "execute_result"
    }
   ],
   "source": [
    "l.energy() / lopt.energy()"
   ]
  },
  {
   "cell_type": "code",
   "execution_count": 24,
   "metadata": {},
   "outputs": [
    {
     "data": {
      "text/plain": [
       "12466673.232702853"
      ]
     },
     "execution_count": 24,
     "metadata": {},
     "output_type": "execute_result"
    }
   ],
   "source": [
    "l.energy()"
   ]
  },
  {
   "cell_type": "code",
   "execution_count": 25,
   "metadata": {},
   "outputs": [
    {
     "data": {
      "text/plain": [
       "12467679.27886621"
      ]
     },
     "execution_count": 25,
     "metadata": {},
     "output_type": "execute_result"
    }
   ],
   "source": [
    "lopt.energy()"
   ]
  }
 ],
 "metadata": {
  "kernelspec": {
   "display_name": "Python 3",
   "language": "python",
   "name": "python3"
  },
  "language_info": {
   "codemirror_mode": {
    "name": "ipython",
    "version": 3
   },
   "file_extension": ".py",
   "mimetype": "text/x-python",
   "name": "python",
   "nbconvert_exporter": "python",
   "pygments_lexer": "ipython3",
   "version": "3.8.undefined"
  }
 },
 "nbformat": 4,
 "nbformat_minor": 4
}
