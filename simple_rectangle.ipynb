{
 "cells": [
  {
   "cell_type": "code",
   "execution_count": 10,
   "metadata": {},
   "outputs": [
    {
     "name": "stdout",
     "output_type": "stream",
     "text": [
      "dofs: [  0.           5.           0.           0.           8.33333333\n",
      "   0.           0.          11.66666667   0.           0.\n",
      "  15.           0.           0.          18.33333333   0.\n",
      "   0.          21.66666667   0.           0.          25.\n",
      "   0.           1.57079633   1.57079633   1.57079633   1.57079633\n",
      "   1.57079633   1.57079633   1.57079633   1.57079633   0.\n",
      "  50.           0.           0.          63.33333333   0.\n",
      "   0.          76.66666667   0.           0.          90.\n",
      "   0.           0.         103.33333333   0.           0.\n",
      " 116.66666667   0.           0.         130.           0.\n",
      "   1.57079633   1.57079633   1.57079633   1.57079633   1.57079633\n",
      "   1.57079633   1.57079633   1.57079633  43.33333333 150.\n",
      "   0.          72.22222222 150.           0.         101.11111111\n",
      " 150.           0.         130.         150.           0.\n",
      " 158.88888889 150.           0.         187.77777778 150.\n",
      "   0.         216.66666667 150.           0.          -1.57079633\n",
      "  -1.57079633  -1.57079633  -1.57079633  -1.57079633  -1.57079633\n",
      "  -1.57079633  -1.57079633 293.33333333 150.           0.\n",
      " 288.88888889 150.           0.         284.44444444 150.\n",
      "   0.         280.         150.           0.         275.55555556\n",
      " 150.           0.         271.11111111 150.           0.\n",
      " 266.66666667 150.           0.           1.57079633   1.57079633\n",
      "   1.57079633   1.57079633   1.57079633   1.57079633   1.57079633\n",
      "   1.57079633 300.         145.           0.         300.\n",
      " 141.66666667   0.         300.         138.33333333   0.\n",
      " 300.         135.           0.         300.         131.66666667\n",
      "   0.         300.         128.33333333   0.         300.\n",
      " 125.           0.          -1.57079633  -1.57079633  -1.57079633\n",
      "  -1.57079633  -1.57079633  -1.57079633  -1.57079633  -1.57079633\n",
      " 300.         100.           0.         300.          86.66666667\n",
      "   0.         300.          73.33333333   0.         300.\n",
      "  60.           0.         300.          46.66666667   0.\n",
      " 300.          33.33333333   0.         300.          20.\n",
      "   0.          -1.57079633  -1.57079633  -1.57079633  -1.57079633\n",
      "  -1.57079633  -1.57079633  -1.57079633  -1.57079633   6.66666667\n",
      "   0.           0.          11.11111111   0.           0.\n",
      "  15.55555556   0.           0.          20.           0.\n",
      "   0.          24.44444444   0.           0.          28.88888889\n",
      "   0.           0.          33.33333333   0.           0.\n",
      "  -1.57079633  -1.57079633  -1.57079633  -1.57079633  -1.57079633\n",
      "  -1.57079633  -1.57079633  -1.57079633 256.66666667   0.\n",
      "   0.         227.77777778   0.           0.         198.88888889\n",
      "   0.           0.         170.           0.           0.\n",
      " 141.11111111   0.           0.         112.22222222   0.\n",
      "   0.          83.33333333   0.           0.           1.57079633\n",
      "   1.57079633   1.57079633   1.57079633   1.57079633   1.57079633\n",
      "   1.57079633   1.57079633  25.          37.5          0.\n",
      "  41.66666667  42.5          0.          58.33333333  47.5\n",
      "   0.          75.          52.5          0.          91.66666667\n",
      "  57.5          0.         108.33333333  62.5          0.\n",
      " 125.          67.5          0.          -1.57079633  -1.57079633\n",
      "  -1.57079633  -1.57079633  -1.57079633  -1.57079633  -1.57079633\n",
      "  -1.57079633 175.          82.5          0.         191.66666667\n",
      "  87.5          0.         208.33333333  92.5          0.\n",
      " 225.          97.5          0.         241.66666667 102.5\n",
      "   0.         258.33333333 107.5          0.         275.\n",
      " 112.5          0.          -1.57079633  -1.57079633  -1.57079633\n",
      "  -1.57079633  -1.57079633  -1.57079633  -1.57079633  -1.57079633\n",
      "  58.33333333  12.5          0.          70.55555556  20.83333333\n",
      "   0.          82.77777778  29.16666667   0.          95.\n",
      "  37.5          0.         107.22222222  45.83333333   0.\n",
      " 119.44444444  54.16666667   0.         131.66666667  62.5\n",
      "   0.          -1.57079633  -1.57079633  -1.57079633  -1.57079633\n",
      "  -1.57079633  -1.57079633  -1.57079633  -1.57079633 241.66666667\n",
      " 137.5          0.         229.44444444 129.16666667   0.\n",
      " 217.22222222 120.83333333   0.         205.         112.5\n",
      "   0.         192.77777778 104.16666667   0.         180.55555556\n",
      "  95.83333333   0.         168.33333333  87.5          0.\n",
      "   1.57079633   1.57079633   1.57079633   1.57079633   1.57079633\n",
      "   1.57079633   1.57079633   1.57079633   0.           0.\n",
      "   0.           0.           0.           0.           1.57079633\n",
      "   3.33333333   4.44444444 300.           0.           0.\n",
      "   0.           0.           0.           1.57079633  13.33333333\n",
      "  28.88888889   0.         150.           0.           0.\n",
      "   0.           0.           1.57079633  13.33333333  28.88888889\n",
      " 300.         150.           0.           0.           0.\n",
      "   0.           1.57079633   3.33333333   4.44444444  40.\n",
      "   0.           0.           0.           0.           0.\n",
      "   0.59841889  14.79280773   4.44444444 260.         150.\n",
      "   0.           0.           0.           0.           0.59841889\n",
      "  14.79280773   4.44444444   0.          30.           0.\n",
      "   0.           0.           0.           1.27933953   3.33333333\n",
      "  17.40051085 300.         120.           0.           0.\n",
      "   0.           0.           1.27933953   3.33333333  17.40051085\n",
      " 150.          75.           0.           0.           0.\n",
      "   0.           0.3069621   14.79280773  17.40051085]\n"
     ]
    },
    {
     "data": {
      "application/vnd.jupyter.widget-view+json": {
       "model_id": "5749e90299e1427cb0f56c88c2a6f277",
       "version_major": 2,
       "version_minor": 0
      },
      "text/plain": [
       "Renderer(camera=PerspectiveCamera(aspect=1.6, children=(PointLight(color='white', intensity=0.6, position=(0.0…"
      ]
     },
     "execution_count": 10,
     "metadata": {},
     "output_type": "execute_result"
    }
   ],
   "source": [
    "import sys; sys.path.append('..')\n",
    "import numpy as np, elastic_rods, linkage_vis\n",
    "from bending_validation import suppress_stdout as so\n",
    "from open_linkage import open_linkage\n",
    "l = elastic_rods.RodLinkage('/home/bruce/ElasticRods/examples/simple_rect.obj')\n",
    "mat = elastic_rods.RodMaterial('-', 200000, 0.5, [20,3], stiffAxis=elastic_rods.StiffAxis.D1)\n",
    "l.setMaterial(mat)\n",
    "torques = np.loadtxt('/home/bruce/ElasticRods/python/examples/actuation_vis/data/AsymmetricWingsPointy/torques_4.txt')\n",
    "driver = 0\n",
    "# driver_position = l.centralJoint\n",
    "# print(l.joint(1).pos)\n",
    "# print(\"joint position:\", l.jointPositionDoFIndices())\n",
    "# print(\"jointAngleDoFIndices :\", l.jointAngleDoFIndices())\n",
    "# print(\"jointDoFIndices:\", l.jointDoFIndices())\n",
    "# print(\"jointPositions:\", l.jointPositions())\n",
    "# angle_ind = [354, 363, 372, 381, 390, 399, 408, 417, 426]\n",
    "# print(angle_ind)\n",
    "# print(angle_ind)\n",
    "# Dofs = l.getDoFs()\n",
    "# print(\"dofs:\", Dofs)\n",
    "# for i in angle_ind:\n",
    "#     Dofs[i]+=90\n",
    "# l.setDoFs(Dofs)\n",
    "driver = l.centralJoint()\n",
    "jdo = l.dofOffsetForJoint(driver)\n",
    "# print(np.rad2deg(l.averageJointAngle))\n",
    "# print(range(jdo,jdo + 6))\n",
    "fixedVars = [jdo,jdo+1,jdo+2,jdo+6]\n",
    "# fixedVars =list(range(100, 104))\n",
    "# with so(): elastic_rods.compute_equilibrium(l,np.deg2rad(120), fixedVars=fixedVars)\n",
    "# print(\"jointPositions:\", l.jointPositions())\n",
    "Dofs = l.getDoFs()\n",
    "print(\"dofs:\", Dofs)\n",
    "view = linkage_vis.LinkageViewer(l, width=1024, height=640)\n",
    "view.show()"
   ]
  },
  {
   "cell_type": "code",
   "execution_count": 8,
   "metadata": {},
   "outputs": [
    {
     "name": "stdout",
     "output_type": "stream",
     "text": [
      "[354, 363, 372, 381, 390, 399, 408, 417, 426]\n"
     ]
    }
   ],
   "source": [
    "torques = np.loadtxt('/home/bruce/ElasticRods/examples/try1_torque.txt')\n",
    "externalForces = np.zeros(l.numDoF())\n",
    "print(l.jointAngleDoFIndices())\n",
    "externalForces[l.jointAngleDoFIndices()] = torques\n",
    "with so(): elastic_rods.compute_equilibrium(l, externalForces, fixedVars=fixedVars)\n",
    "view.update()"
   ]
  },
  {
   "cell_type": "code",
   "execution_count": null,
   "metadata": {},
   "outputs": [],
   "source": [
    "from open_linkage import open_linkage\n",
    "def equilibriumSolver(tgtAngle, l, opts, fv):\n",
    "    opts.gradTol = 1e-4\n",
    "    return elastic_rods.compute_equilibrium(l, tgtAngle, options=opts, fixedVars=fv)\n",
    "with so(): open_linkage(l, driver, np.deg2rad(90) - l.averageJointAngle, 100, view, equilibriumSolver=equilibriumSolver, maxNewtonIterationsIntermediate=20, useTargetAngleConstraint=True);"
   ]
  },
  {
   "cell_type": "code",
   "execution_count": null,
   "metadata": {},
   "outputs": [],
   "source": [
    "externalForces = l.gradient() + l.gravityForce(2e-6)\n",
    "fv = l.dofOffsetForJoint(driver) + np.arange(6) # Fix position/orientation at a single joint\n",
    "with so(): elastic_rods.compute_equilibrium(l, externalForces, fixedVars=fv)\n",
    "\n",
    "view.update()"
   ]
  },
  {
   "cell_type": "code",
   "execution_count": null,
   "metadata": {},
   "outputs": [],
   "source": [
    "# import numpy as np\n",
    "# num_dofs = l.numDoF()\n",
    "# externalForces = np.zeros(num_dofs)\n",
    "# with so():\n",
    "#     elastic_rods.compute_equilibrium(l, externalForces=externalForces, fixedVars=fixedVars)\n",
    "# view.update()\n",
    "view.show()\n"
   ]
  }
 ],
 "metadata": {
  "kernelspec": {
   "display_name": "xshell_env",
   "language": "python",
   "name": "python3"
  },
  "language_info": {
   "codemirror_mode": {
    "name": "ipython",
    "version": 3
   },
   "file_extension": ".py",
   "mimetype": "text/x-python",
   "name": "python",
   "nbconvert_exporter": "python",
   "pygments_lexer": "ipython3",
   "version": "3.8.undefined"
  }
 },
 "nbformat": 4,
 "nbformat_minor": 2
}
