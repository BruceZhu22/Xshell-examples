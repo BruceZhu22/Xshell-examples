{
 "cells": [
  {
   "cell_type": "code",
   "execution_count": 3,
   "metadata": {},
   "outputs": [
    {
     "name": "stdout",
     "output_type": "stream",
     "text": [
      "CHOLMOD warning: matrix not positive definite. file: ../Supernodal/t_cholmod_super_numeric.c line: 911\n",
      "CHOLMOD warning: matrix not positive definite. file: ../Supernodal/t_cholmod_super_numeric.c line: 911\n",
      "CHOLMOD warning: matrix not positive definite. file: ../Supernodal/t_cholmod_super_numeric.c line: 911\n",
      "CHOLMOD warning: matrix not positive definite. file: ../Supernodal/t_cholmod_super_numeric.c line: 911\n",
      "CHOLMOD warning: matrix not positive definite. file: ../Supernodal/t_cholmod_super_numeric.c line: 911\n",
      "CHOLMOD warning: matrix not positive definite. file: ../Supernodal/t_cholmod_super_numeric.c line: 911\n",
      "CHOLMOD warning: matrix not positive definite. file: ../Supernodal/t_cholmod_super_numeric.c line: 911\n",
      "CHOLMOD warning: matrix not positive definite. file: ../Supernodal/t_cholmod_super_numeric.c line: 911\n",
      "CHOLMOD warning: matrix not positive definite. file: ../Supernodal/t_cholmod_super_numeric.c line: 911\n",
      "CHOLMOD warning: matrix not positive definite. file: ../Supernodal/t_cholmod_super_numeric.c line: 911\n",
      "CHOLMOD warning: matrix not positive definite. file: ../Supernodal/t_cholmod_super_numeric.c line: 911\n",
      "CHOLMOD warning: matrix not positive definite. file: ../Supernodal/t_cholmod_super_numeric.c line: 911\n",
      "CHOLMOD warning: matrix not positive definite. file: ../Supernodal/t_cholmod_super_numeric.c line: 911\n",
      "CHOLMOD warning: matrix not positive definite. file: ../Supernodal/t_cholmod_super_numeric.c line: 911\n",
      "CHOLMOD warning: matrix not positive definite. file: ../Supernodal/t_cholmod_super_numeric.c line: 911\n",
      "CHOLMOD warning: matrix not positive definite. file: ../Supernodal/t_cholmod_super_numeric.c line: 911\n",
      "CHOLMOD warning: matrix not positive definite. file: ../Supernodal/t_cholmod_super_numeric.c line: 911\n",
      "CHOLMOD warning: matrix not positive definite. file: ../Supernodal/t_cholmod_super_numeric.c line: 911\n"
     ]
    },
    {
     "data": {
      "application/vnd.jupyter.widget-view+json": {
       "model_id": "e9412570405245d88ea632b6c303e836",
       "version_major": 2,
       "version_minor": 0
      },
      "text/plain": [
       "Renderer(camera=PerspectiveCamera(aspect=2.0, children=(PointLight(color='white', intensity=0.6, position=(0.0…"
      ]
     },
     "execution_count": 3,
     "metadata": {},
     "output_type": "execute_result"
    }
   ],
   "source": [
    "import sys; sys.path.append('..')\n",
    "import numpy as np, elastic_rods\n",
    "from bending_validation import suppress_stdout\n",
    "from linkage_vis import LinkageViewer\n",
    "\n",
    "l = elastic_rods.RodLinkage('/home/bruce/ElasticRods/examples/wenbo_model.obj')\n",
    "mat = elastic_rods.RodMaterial('Rectangle', 7.2e10, 0.22, [0.8,0.1], stiffAxis=elastic_rods.StiffAxis.D2)\n",
    "l.setMaterial(mat)\n",
    "\n",
    "l.swapJointAngleDefinitions() # use obtuse angle instead of acute since the linkage is already opened\n",
    "# l.setPerSegmentRestLength(np.loadtxt('../examples/optimized/data/AsymmWingsPointy/design_parameters.txt'))\n",
    "torques = np.loadtxt('/home/bruce/ElasticRods/examples/wenbo_torque.txt')\n",
    "externalForces = np.zeros(l.numDoF())\n",
    "externalForces[l.jointAngleDoFIndices()] = torques\n",
    "angle_dof_ind = l.jointAngleDoFIndices()\n",
    "Dofs = l.getDoFs()\n",
    "\n",
    "# for i in angle_dof_ind:\n",
    "#     print(\"dofs:\", Dofs[i])   \n",
    "jdo = l.dofOffsetForJoint(l.centralJoint())\n",
    "# fixedVars = list(range(jdo, jdo + 6)) # fix rigid motion for a single joint\n",
    "fixedVars=[]\n",
    "point_ind=l.jointPositionDoFIndices()\n",
    "point_pos=l.jointPositions()\n",
    "for i in range(0,len(point_ind)): \n",
    "    if point_pos[i]==0:\n",
    "        if point_ind[i]%3==2:\n",
    "            fixedVars.append(point_ind[i-2])\n",
    "            fixedVars.append(point_ind[i-1])\n",
    "            fixedVars.append(point_ind[i])\n",
    "with suppress_stdout(): elastic_rods.compute_equilibrium(l, 2.0, fixedVars=fixedVars)\n",
    "view = LinkageViewer(l, width=1024)\n",
    "view.setCameraParams(((0.4075185454716348, 3.1892642201046715, 0.3099480992441177),\n",
    " (0.15364528336486324, 0.2839547329660347, 0.9464474821805594),\n",
    " (0.0, 0.0, 0.0)))\n",
    "view.show()"
   ]
  },
  {
   "cell_type": "code",
   "execution_count": 10,
   "metadata": {},
   "outputs": [],
   "source": [
    "with suppress_stdout(): elastic_rods.compute_equilibrium(l, 1.0 * externalForces, fixedVars=fixedVars)\n",
    "view.update()"
   ]
  }
 ],
 "metadata": {
  "kernelspec": {
   "display_name": "xshell_env",
   "language": "python",
   "name": "python3"
  },
  "language_info": {
   "codemirror_mode": {
    "name": "ipython",
    "version": 3
   },
   "file_extension": ".py",
   "mimetype": "text/x-python",
   "name": "python",
   "nbconvert_exporter": "python",
   "pygments_lexer": "ipython3",
   "version": "3.8.undefined"
  }
 },
 "nbformat": 4,
 "nbformat_minor": 2
}
